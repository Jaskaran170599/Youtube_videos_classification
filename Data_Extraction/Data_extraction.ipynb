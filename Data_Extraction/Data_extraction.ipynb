{
 "cells": [
  {
   "cell_type": "code",
   "execution_count": 1,
   "metadata": {},
   "outputs": [],
   "source": [
    "import pandas as pd \n",
    "from youtube_videos import youtube_search\n",
    "import requests\n",
    "import pickle as pk\n",
    "from bs4 import BeautifulSoup as bs"
   ]
  },
  {
   "cell_type": "code",
   "execution_count": 2,
   "metadata": {},
   "outputs": [],
   "source": [
    "categories=[\"Travel Blogs\",\"Science and Technology\",\"Food\",\"Manufacturing\",\"History\",\"Art and Music\"]"
   ]
  },
  {
   "cell_type": "code",
   "execution_count": 4,
   "metadata": {},
   "outputs": [],
   "source": [
    "min_data=1700\n",
    "\n",
    "def get_videos_links(categories):\n",
    "    videos=[]\n",
    "    for cat in categories[:]:\n",
    "        k=0\n",
    "        token=None\n",
    "        while k<min_data:\n",
    "            vid_data= youtube_search(cat,token=token)\n",
    "            token=vid_data[0]\n",
    "            if len(vid_data[1]) == 0:\n",
    "                break\n",
    "            k+=len(vid_data[1])\n",
    "\n",
    "            for i in vid_data[1]:\n",
    "                videos.append((i['id']['videoId'],cat))\n",
    "        print(cat,\" total_videos: \",k)\n",
    "    return videos\n",
    "\n",
    "def extract_data(videos_links,min_data):\n",
    "    file=[]\n",
    "    k=0\n",
    "    cat=\"\"\n",
    "    for vid in videos_links:\n",
    "        if cat!= vid[1]:\n",
    "            print()\n",
    "            print(vid[1])\n",
    "            cat=vid[1]    \n",
    "            k=0\n",
    "        url=\"https://www.youtube.com/watch?v=\"+vid[0]\n",
    "        html=requests.get(url)\n",
    "        data=bs(html.text,\"html.parser\")\n",
    "        title=data.findAll(\"span\",attrs={\"class\":\"watch-title\"})\n",
    "        if len(title)==0:\n",
    "            continue\n",
    "        desc=raw_html=data.findAll(\"p\",attrs={\"id\":\"eow-description\"})[0].text\n",
    "        file.append([vid,title[0]['title'],desc,vid[1]])\n",
    "        print(k,end=\" \")\n",
    "        k+=1\n",
    "    return file"
   ]
  },
  {
   "cell_type": "code",
   "execution_count": 5,
   "metadata": {},
   "outputs": [],
   "source": [
    "# video_links=get_videos_links(categories=categories)\n",
    "\n",
    "# with open(\"video_links.pkl\",\"wb\") as file:\n",
    "#     pk.dump(video_links,file)"
   ]
  },
  {
   "cell_type": "code",
   "execution_count": 7,
   "metadata": {
    "scrolled": true
   },
   "outputs": [],
   "source": [
    "with open(\"video_links.pkl\",\"rb\") as file:\n",
    "    video_links=pk.load(file)\n",
    "\n",
    "# data=extract_data(videos_links=video_links,min_data=min_data)"
   ]
  },
  {
   "cell_type": "code",
   "execution_count": 18,
   "metadata": {},
   "outputs": [
    {
     "data": {
      "text/html": [
       "<div>\n",
       "<style scoped>\n",
       "    .dataframe tbody tr th:only-of-type {\n",
       "        vertical-align: middle;\n",
       "    }\n",
       "\n",
       "    .dataframe tbody tr th {\n",
       "        vertical-align: top;\n",
       "    }\n",
       "\n",
       "    .dataframe thead th {\n",
       "        text-align: right;\n",
       "    }\n",
       "</style>\n",
       "<table border=\"1\" class=\"dataframe\">\n",
       "  <thead>\n",
       "    <tr style=\"text-align: right;\">\n",
       "      <th></th>\n",
       "      <th>Video_id</th>\n",
       "      <th>Title</th>\n",
       "      <th>Description</th>\n",
       "      <th>Category</th>\n",
       "    </tr>\n",
       "  </thead>\n",
       "  <tbody>\n",
       "    <tr>\n",
       "      <th>0</th>\n",
       "      <td>i9E_Blai8vk</td>\n",
       "      <td>TRAVEL VLOG ∙ Welcome to Bali | PRISCILLA LEE</td>\n",
       "      <td>I had the chance to fly out to Bali with my wh...</td>\n",
       "      <td>Travel Blogs</td>\n",
       "    </tr>\n",
       "    <tr>\n",
       "      <th>1</th>\n",
       "      <td>e2NQE41J5eM</td>\n",
       "      <td>How do I travel so much ! How do I earn money!!</td>\n",
       "      <td>SUBSCRIBE - https://goo.gl/dEtSMJ (‘MountainTr...</td>\n",
       "      <td>Travel Blogs</td>\n",
       "    </tr>\n",
       "    <tr>\n",
       "      <th>2</th>\n",
       "      <td>ehmsJLZlCZ0</td>\n",
       "      <td>Ep 1| Travelling through North East India | Of...</td>\n",
       "      <td>The journey to Arunachal, North East India beg...</td>\n",
       "      <td>Travel Blogs</td>\n",
       "    </tr>\n",
       "    <tr>\n",
       "      <th>3</th>\n",
       "      <td>-LzdIILq5vE</td>\n",
       "      <td>GOA TRAVEL DIARY | FOUR DAYS IN GOA | TRAVEL O...</td>\n",
       "      <td>Hope you enjoy MY GOA TRAVEL DIARY this video!...</td>\n",
       "      <td>Travel Blogs</td>\n",
       "    </tr>\n",
       "    <tr>\n",
       "      <th>4</th>\n",
       "      <td>7ByoBJYXU0k</td>\n",
       "      <td>5 Steps to Becoming a Travel Blogger</td>\n",
       "      <td>Travel blogger, Nikki Vargas, of The Pin the M...</td>\n",
       "      <td>Travel Blogs</td>\n",
       "    </tr>\n",
       "  </tbody>\n",
       "</table>\n",
       "</div>"
      ],
      "text/plain": [
       "      Video_id                                              Title  \\\n",
       "0  i9E_Blai8vk      TRAVEL VLOG ∙ Welcome to Bali | PRISCILLA LEE   \n",
       "1  e2NQE41J5eM    How do I travel so much ! How do I earn money!!   \n",
       "2  ehmsJLZlCZ0  Ep 1| Travelling through North East India | Of...   \n",
       "3  -LzdIILq5vE  GOA TRAVEL DIARY | FOUR DAYS IN GOA | TRAVEL O...   \n",
       "4  7ByoBJYXU0k               5 Steps to Becoming a Travel Blogger   \n",
       "\n",
       "                                         Description      Category  \n",
       "0  I had the chance to fly out to Bali with my wh...  Travel Blogs  \n",
       "1  SUBSCRIBE - https://goo.gl/dEtSMJ (‘MountainTr...  Travel Blogs  \n",
       "2  The journey to Arunachal, North East India beg...  Travel Blogs  \n",
       "3  Hope you enjoy MY GOA TRAVEL DIARY this video!...  Travel Blogs  \n",
       "4  Travel blogger, Nikki Vargas, of The Pin the M...  Travel Blogs  "
      ]
     },
     "execution_count": 18,
     "metadata": {},
     "output_type": "execute_result"
    }
   ],
   "source": [
    "Dataset=pd.DataFrame(file)\n",
    "Dataset.columns=[\"Video_id\",\"Title\",\"Description\",\"Category\"]\n",
    "Dataset.head()"
   ]
  },
  {
   "cell_type": "code",
   "execution_count": null,
   "metadata": {},
   "outputs": [],
   "source": [
    "Dataset.to_csv(\"Dataset_youtube.csv\")"
   ]
  }
 ],
 "metadata": {
  "kernelspec": {
   "display_name": "Python 3",
   "language": "python",
   "name": "python3"
  },
  "language_info": {
   "codemirror_mode": {
    "name": "ipython",
    "version": 3
   },
   "file_extension": ".py",
   "mimetype": "text/x-python",
   "name": "python",
   "nbconvert_exporter": "python",
   "pygments_lexer": "ipython3",
   "version": "3.6.5"
  }
 },
 "nbformat": 4,
 "nbformat_minor": 2
}
